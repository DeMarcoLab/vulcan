{
 "cells": [
  {
   "cell_type": "code",
   "execution_count": 18,
   "metadata": {},
   "outputs": [],
   "source": [
    "import numpy as np\n",
    "\n",
    "def convert_arr_to_streamfile(filename: str, profile: np.ndarray, n_passes: int, sputter_rate: float, dwell_time_base: float, shuffle_order: bool = True):\n",
    "    # Dwell time base = 100ns\n",
    "    # Sputter rate = ?\n",
    "    pixelsize = 100e-9 #um\n",
    "    profile = profile  * np.power(pixelsize,2) / (n_passes * sputter_rate * dwell_time_base)\n",
    "\n",
    "    # create a list of lists\n",
    "    profile_list = []\n",
    "    for i in range(profile.shape[0]):\n",
    "        for j in range(profile.shape[1]):\n",
    "            profile_list.append([profile[i,j], i, j])\n",
    "    if shuffle_order:\n",
    "        np.random.shuffle(profile_list)\n",
    "\n",
    "    # write the header\n",
    "    with open(filename, \"w\", newline=\"\\r\\n\") as f:\n",
    "        f.write(\"s\\n\")\n",
    "        f.write(str(n_passes)+\"\\n\")\n",
    "        f.write(str(profile.shape[0]*profile.shape[1])+\"\\n\")\n",
    "\n",
    "        for i in range(len(profile_list)):\n",
    "            f.write(str(int(profile_list[i][0]))+\" \"+str(profile_list[i][1])+\" \"+str(profile_list[i][2])+\"\\n\")"
   ]
  },
  {
   "cell_type": "code",
   "execution_count": 19,
   "metadata": {},
   "outputs": [],
   "source": [
    "dir_path = r\"C:\\Users\\Admin\\Github\\vulcan\\vulcan\\submicron_2022-10-24.05-57-53PM\\sub_um_sheet.npy\"\n",
    "# dir_path2 = r\"C:\\Users\\Admin\\Github\\vulcan\\vulcan\\submicron_2022-10-24.05-57-53PM\\sub_um_escape_250nm.npy\"\n",
    "# dir_path3 = r\"C:\\Users\\Admin\\Github\\vulcan\\vulcan\\submicron_2022-10-24.05-57-53PM\\sub_um_escape.npy\"\n",
    "array = np.load(dir_path)\n",
    "# array2 = np.load(dir_path2)\n",
    "# array3 = np.load(dir_path3)"
   ]
  },
  {
   "cell_type": "code",
   "execution_count": 20,
   "metadata": {},
   "outputs": [
    {
     "data": {
      "image/png": "[encoded data removed]",
      "text/plain": [
       "<Figure size 640x480 with 2 Axes>"
      ]
     },
     "metadata": {},
     "output_type": "display_data"
    },
    {
     "name": "stdout",
     "output_type": "stream",
     "text": [
      "max:  8.8516444520792e-06\n"
     ]
    }
   ],
   "source": [
    "import matplotlib.pyplot as plt\n",
    "plt.imshow(array)\n",
    "plt.colorbar()\n",
    "plt.show()\n",
    "\n",
    "print(\"max: \", np.max(array))"
   ]
  },
  {
   "cell_type": "code",
   "execution_count": 21,
   "metadata": {},
   "outputs": [],
   "source": [
    "convert_arr_to_streamfile(\"sub_um_sheet.str\", array, 1000, 25e-18, 100e-9)"
   ]
  },
  {
   "cell_type": "code",
   "execution_count": 15,
   "metadata": {},
   "outputs": [
    {
     "name": "stdout",
     "output_type": "stream",
     "text": [
      "Client connecting to [10.0.0.1:7520]...\n",
      "Client connected to [10.0.0.1:7520]\n"
     ]
    }
   ],
   "source": [
    "from autoscript_sdb_microscope_client import SdbMicroscopeClient\n",
    "from autoscript_sdb_microscope_client.enumerations import *\n",
    "from autoscript_sdb_microscope_client.structures import *\n",
    "\n",
    "microscope = SdbMicroscopeClient()\n",
    "microscope.connect(\"10.0.0.1\")\n",
    "\n",
    "microscope.patterning.set_default_beam_type(BeamType.ION)\n",
    "microscope.patterning.set_default_application_file(\"Si\")\n",
    "\n",
    "microscope.patterning.clear_patterns()\n",
    "\n"
   ]
  },
  {
   "cell_type": "code",
   "execution_count": 101,
   "metadata": {},
   "outputs": [],
   "source": [
    "spd = StreamPatternDefinition.load(\"sub_um_sheet.str\")\n"
   ]
  },
  {
   "cell_type": "code",
   "execution_count": 102,
   "metadata": {},
   "outputs": [
    {
     "name": "stdout",
     "output_type": "stream",
     "text": [
      "bit depth 12\n",
      "points:  2642000\n",
      "repeat count:  1000\n"
     ]
    }
   ],
   "source": [
    "print(\"bit depth\", spd.bit_depth)\n",
    "print(\"points: \", len(spd.points))\n",
    "print(\"repeat count: \", spd.repeat_count)"
   ]
  },
  {
   "cell_type": "code",
   "execution_count": 103,
   "metadata": {},
   "outputs": [
    {
     "ename": "ApplicationServerException",
     "evalue": "An error occurred in the XT microscope server.\r\nCould not set pattern property, 'StreamPatternFile', due to error:Invalid format stream file",
     "output_type": "error",
     "traceback": [
      "\u001b[1;31m---------------------------------------------------------------------------\u001b[0m",
      "\u001b[1;31mApplicationServerException\u001b[0m                Traceback (most recent call last)",
      "\u001b[1;32mc:\\Users\\Admin\\Github\\vulcan\\vulcan\\streamfile.ipynb Cell 8\u001b[0m in \u001b[0;36m<cell line: 1>\u001b[1;34m()\u001b[0m\n\u001b[1;32m----> <a href='vscode-notebook-cell:/c%3A/Users/Admin/Github/vulcan/vulcan/streamfile.ipynb#X10sZmlsZQ%3D%3D?line=0'>1</a>\u001b[0m pattern \u001b[39m=\u001b[39m microscope\u001b[39m.\u001b[39;49mpatterning\u001b[39m.\u001b[39;49mcreate_stream(\u001b[39m0\u001b[39;49m, \u001b[39m0\u001b[39;49m, spd)\n",
      "File \u001b[1;32mc:\\Users\\Admin\\.conda\\envs\\liftout\\lib\\site-packages\\autoscript_sdb_microscope_client\\sdb_microscope\\_patterning.py:210\u001b[0m, in \u001b[0;36mPatterning.create_stream\u001b[1;34m(self, center_x, center_y, stream_pattern_definition)\u001b[0m\n\u001b[0;32m    208\u001b[0m call_request \u001b[39m=\u001b[39m CallRequest(object_id\u001b[39m=\u001b[39m\u001b[39mself\u001b[39m\u001b[39m.\u001b[39m__id, method_name\u001b[39m=\u001b[39m\u001b[39m\"\u001b[39m\u001b[39mCreateStream\u001b[39m\u001b[39m\"\u001b[39m, signature\u001b[39m=\u001b[39m [DataType\u001b[39m.\u001b[39mDOUBLE, DataType\u001b[39m.\u001b[39mDOUBLE, DataTypeDefinition(DataType\u001b[39m.\u001b[39mSTRUCTURE_PRIMARY_ID, secondary_id\u001b[39m=\u001b[39m\u001b[39m\"\u001b[39m\u001b[39mStreamPatternDefinition\u001b[39m\u001b[39m\"\u001b[39m)], parameters\u001b[39m=\u001b[39m[center_x, center_y, stream_pattern_definition]) \n\u001b[0;32m    209\u001b[0m \u001b[39mif\u001b[39;00m \u001b[39misinstance\u001b[39m(center_x, (\u001b[39mint\u001b[39m, \u001b[39mfloat\u001b[39m)) \u001b[39mand\u001b[39;00m \u001b[39misinstance\u001b[39m(center_y, (\u001b[39mint\u001b[39m, \u001b[39mfloat\u001b[39m)) \u001b[39mand\u001b[39;00m \u001b[39misinstance\u001b[39m(stream_pattern_definition, StreamPatternDefinition):\n\u001b[1;32m--> 210\u001b[0m     call_response \u001b[39m=\u001b[39m \u001b[39mself\u001b[39;49m\u001b[39m.\u001b[39;49m__application_client\u001b[39m.\u001b[39;49m_perform_call(call_request)\n\u001b[0;32m    211\u001b[0m \u001b[39melse\u001b[39;00m:\n\u001b[0;32m    212\u001b[0m     \u001b[39mraise\u001b[39;00m \u001b[39mException\u001b[39;00m(\u001b[39m\"\u001b[39m\u001b[39mCannot execute method with the given parameters combination. Read the documentation for details of how to call this method.\u001b[39m\u001b[39m\"\u001b[39m)\n",
      "File \u001b[1;32mc:\\Users\\Admin\\.conda\\envs\\liftout\\lib\\site-packages\\autoscript_sdb_microscope_client\\sdb_microscope_client.py:221\u001b[0m, in \u001b[0;36mSdbMicroscopeClient._perform_call\u001b[1;34m(self, call_request)\u001b[0m\n\u001b[0;32m    218\u001b[0m     \u001b[39mraise\u001b[39;00m MarshallingException()\n\u001b[0;32m    220\u001b[0m \u001b[39mtry\u001b[39;00m:\n\u001b[1;32m--> 221\u001b[0m     call_response \u001b[39m=\u001b[39m \u001b[39mself\u001b[39;49m\u001b[39m.\u001b[39;49m__endpoint\u001b[39m.\u001b[39;49mperform_call(call_request)\n\u001b[0;32m    222\u001b[0m \u001b[39mexcept\u001b[39;00m ApiException \u001b[39mas\u001b[39;00m api_exception:\n\u001b[0;32m    223\u001b[0m     ApplicationClientLoggingHelper\u001b[39m.\u001b[39mlog_call_error(call_request\u001b[39m.\u001b[39mwide_call_id, api_exception)\n",
      "File \u001b[1;32mc:\\Users\\Admin\\.conda\\envs\\liftout\\lib\\site-packages\\autoscript_core\\orc\\engines.py:192\u001b[0m, in \u001b[0;36mClientEndpoint.perform_call\u001b[1;34m(self, call_request)\u001b[0m\n\u001b[0;32m    189\u001b[0m     api_exception \u001b[39m=\u001b[39m ErrorConverter\u001b[39m.\u001b[39mapi_error_to_api_exception(call_response\u001b[39m.\u001b[39merror)\n\u001b[0;32m    191\u001b[0m     Logging\u001b[39m.\u001b[39mloggers[LogDomain\u001b[39m.\u001b[39mORC]\u001b[39m.\u001b[39mlog_call_error(call_request\u001b[39m.\u001b[39mwide_call_id, CommunicationSide\u001b[39m.\u001b[39mCLIENT, api_exception)\n\u001b[1;32m--> 192\u001b[0m     \u001b[39mraise\u001b[39;00m api_exception\n\u001b[0;32m    194\u001b[0m Logging\u001b[39m.\u001b[39mloggers[LogDomain\u001b[39m.\u001b[39mORC]\u001b[39m.\u001b[39mlog_call_notification(call_request\u001b[39m.\u001b[39mwide_call_id, CallOperationCode\u001b[39m.\u001b[39mLEAVE, CommunicationSide\u001b[39m.\u001b[39mCLIENT, \u001b[39m\"\u001b[39m\u001b[39mCall left client ORC\u001b[39m\u001b[39m\"\u001b[39m)\n\u001b[0;32m    195\u001b[0m \u001b[39mreturn\u001b[39;00m call_response\n",
      "\u001b[1;31mApplicationServerException\u001b[0m: An error occurred in the XT microscope server.\r\nCould not set pattern property, 'StreamPatternFile', due to error:Invalid format stream file"
     ]
    }
   ],
   "source": [
    "pattern = microscope.patterning.create_stream(0, 0, spd)"
   ]
  },
  {
   "cell_type": "code",
   "execution_count": 51,
   "metadata": {},
   "outputs": [
    {
     "ename": "IndexError",
     "evalue": "index 1000 is out of bounds for axis 0 with size 1000",
     "output_type": "error",
     "traceback": [
      "\u001b[1;31m---------------------------------------------------------------------------\u001b[0m",
      "\u001b[1;31mIndexError\u001b[0m                                Traceback (most recent call last)",
      "\u001b[1;32mc:\\Users\\Admin\\Github\\vulcan\\vulcan\\streamfile.ipynb Cell 10\u001b[0m in \u001b[0;36m<cell line: 9>\u001b[1;34m()\u001b[0m\n\u001b[0;32m      <a href='vscode-notebook-cell:/c%3A/Users/Admin/Github/vulcan/vulcan/streamfile.ipynb#X12sZmlsZQ%3D%3D?line=8'>9</a>\u001b[0m \u001b[39mfor\u001b[39;00m i \u001b[39min\u001b[39;00m \u001b[39mrange\u001b[39m(profile\u001b[39m.\u001b[39mshape[\u001b[39m0\u001b[39m]):\n\u001b[0;32m     <a href='vscode-notebook-cell:/c%3A/Users/Admin/Github/vulcan/vulcan/streamfile.ipynb#X12sZmlsZQ%3D%3D?line=9'>10</a>\u001b[0m     \u001b[39mfor\u001b[39;00m j \u001b[39min\u001b[39;00m \u001b[39mrange\u001b[39m(profile\u001b[39m.\u001b[39mshape[\u001b[39m1\u001b[39m]):\n\u001b[1;32m---> <a href='vscode-notebook-cell:/c%3A/Users/Admin/Github/vulcan/vulcan/streamfile.ipynb#X12sZmlsZQ%3D%3D?line=10'>11</a>\u001b[0m         points[i] \u001b[39m=\u001b[39m[\u001b[39m100\u001b[39m, i, j, \u001b[39m0\u001b[39m]\n\u001b[0;32m     <a href='vscode-notebook-cell:/c%3A/Users/Admin/Github/vulcan/vulcan/streamfile.ipynb#X12sZmlsZQ%3D%3D?line=13'>14</a>\u001b[0m \u001b[39mprint\u001b[39m(\u001b[39mlen\u001b[39m(points))\n",
      "\u001b[1;31mIndexError\u001b[0m: index 1000 is out of bounds for axis 0 with size 1000"
     ]
    }
   ],
   "source": [
    "# base spd\n",
    "profile, n_passes, sputter_rate, dwell_time_base = array, 1000, 25, 100e-6\n",
    "profile = profile / (n_passes * sputter_rate * dwell_time_base)\n",
    "\n",
    "# create a list of lists\n",
    "point_count = n_passes\n",
    "points = np.zeros(shape=(point_count, 4), dtype=object)\n",
    "\n",
    "for i in range(profile.shape[0]):\n",
    "    for j in range(profile.shape[1]):\n",
    "        points[i] =[100, i, j, 0]\n",
    "\n",
    "\n",
    "print(len(points))\n",
    "# np.random.shuffle(points)\n"
   ]
  },
  {
   "cell_type": "code",
   "execution_count": null,
   "metadata": {},
   "outputs": [
    {
     "name": "stdout",
     "output_type": "stream",
     "text": [
      "[[100, 1537, 101, 0], [100, 1490, 916, 0], [100, 1261, 205, 0], [100, 848, 922, 0], [100, 853, 444, 0]]\n"
     ]
    }
   ],
   "source": [
    "print(points[:5])"
   ]
  },
  {
   "cell_type": "code",
   "execution_count": 50,
   "metadata": {},
   "outputs": [
    {
     "ename": "ApplicationServerException",
     "evalue": "An error occurred in the XT microscope server.\r\nCould not set pattern property, 'StreamPatternFile', due to error:Unknown Error",
     "output_type": "error",
     "traceback": [
      "\u001b[1;31m---------------------------------------------------------------------------\u001b[0m",
      "\u001b[1;31mApplicationServerException\u001b[0m                Traceback (most recent call last)",
      "\u001b[1;32mc:\\Users\\Admin\\Github\\vulcan\\vulcan\\streamfile.ipynb Cell 12\u001b[0m in \u001b[0;36m<cell line: 5>\u001b[1;34m()\u001b[0m\n\u001b[0;32m      <a href='vscode-notebook-cell:/c%3A/Users/Admin/Github/vulcan/vulcan/streamfile.ipynb#X13sZmlsZQ%3D%3D?line=1'>2</a>\u001b[0m spd\u001b[39m.\u001b[39mpoints \u001b[39m=\u001b[39m np\u001b[39m.\u001b[39masarray(profile_list)[:\u001b[39m1000\u001b[39m]\u001b[39m.\u001b[39mastype(\u001b[39mobject\u001b[39m)\n\u001b[0;32m      <a href='vscode-notebook-cell:/c%3A/Users/Admin/Github/vulcan/vulcan/streamfile.ipynb#X13sZmlsZQ%3D%3D?line=2'>3</a>\u001b[0m spd\u001b[39m.\u001b[39mrepeat_count \u001b[39m=\u001b[39m \u001b[39m1000\u001b[39m\n\u001b[1;32m----> <a href='vscode-notebook-cell:/c%3A/Users/Admin/Github/vulcan/vulcan/streamfile.ipynb#X13sZmlsZQ%3D%3D?line=4'>5</a>\u001b[0m pattern \u001b[39m=\u001b[39m microscope\u001b[39m.\u001b[39;49mpatterning\u001b[39m.\u001b[39;49mcreate_stream(\u001b[39m0\u001b[39;49m, \u001b[39m0\u001b[39;49m, spd)\n",
      "File \u001b[1;32mc:\\Users\\Admin\\.conda\\envs\\liftout\\lib\\site-packages\\autoscript_sdb_microscope_client\\sdb_microscope\\_patterning.py:210\u001b[0m, in \u001b[0;36mPatterning.create_stream\u001b[1;34m(self, center_x, center_y, stream_pattern_definition)\u001b[0m\n\u001b[0;32m    208\u001b[0m call_request \u001b[39m=\u001b[39m CallRequest(object_id\u001b[39m=\u001b[39m\u001b[39mself\u001b[39m\u001b[39m.\u001b[39m__id, method_name\u001b[39m=\u001b[39m\u001b[39m\"\u001b[39m\u001b[39mCreateStream\u001b[39m\u001b[39m\"\u001b[39m, signature\u001b[39m=\u001b[39m [DataType\u001b[39m.\u001b[39mDOUBLE, DataType\u001b[39m.\u001b[39mDOUBLE, DataTypeDefinition(DataType\u001b[39m.\u001b[39mSTRUCTURE_PRIMARY_ID, secondary_id\u001b[39m=\u001b[39m\u001b[39m\"\u001b[39m\u001b[39mStreamPatternDefinition\u001b[39m\u001b[39m\"\u001b[39m)], parameters\u001b[39m=\u001b[39m[center_x, center_y, stream_pattern_definition]) \n\u001b[0;32m    209\u001b[0m \u001b[39mif\u001b[39;00m \u001b[39misinstance\u001b[39m(center_x, (\u001b[39mint\u001b[39m, \u001b[39mfloat\u001b[39m)) \u001b[39mand\u001b[39;00m \u001b[39misinstance\u001b[39m(center_y, (\u001b[39mint\u001b[39m, \u001b[39mfloat\u001b[39m)) \u001b[39mand\u001b[39;00m \u001b[39misinstance\u001b[39m(stream_pattern_definition, StreamPatternDefinition):\n\u001b[1;32m--> 210\u001b[0m     call_response \u001b[39m=\u001b[39m \u001b[39mself\u001b[39;49m\u001b[39m.\u001b[39;49m__application_client\u001b[39m.\u001b[39;49m_perform_call(call_request)\n\u001b[0;32m    211\u001b[0m \u001b[39melse\u001b[39;00m:\n\u001b[0;32m    212\u001b[0m     \u001b[39mraise\u001b[39;00m \u001b[39mException\u001b[39;00m(\u001b[39m\"\u001b[39m\u001b[39mCannot execute method with the given parameters combination. Read the documentation for details of how to call this method.\u001b[39m\u001b[39m\"\u001b[39m)\n",
      "File \u001b[1;32mc:\\Users\\Admin\\.conda\\envs\\liftout\\lib\\site-packages\\autoscript_sdb_microscope_client\\sdb_microscope_client.py:221\u001b[0m, in \u001b[0;36mSdbMicroscopeClient._perform_call\u001b[1;34m(self, call_request)\u001b[0m\n\u001b[0;32m    218\u001b[0m     \u001b[39mraise\u001b[39;00m MarshallingException()\n\u001b[0;32m    220\u001b[0m \u001b[39mtry\u001b[39;00m:\n\u001b[1;32m--> 221\u001b[0m     call_response \u001b[39m=\u001b[39m \u001b[39mself\u001b[39;49m\u001b[39m.\u001b[39;49m__endpoint\u001b[39m.\u001b[39;49mperform_call(call_request)\n\u001b[0;32m    222\u001b[0m \u001b[39mexcept\u001b[39;00m ApiException \u001b[39mas\u001b[39;00m api_exception:\n\u001b[0;32m    223\u001b[0m     ApplicationClientLoggingHelper\u001b[39m.\u001b[39mlog_call_error(call_request\u001b[39m.\u001b[39mwide_call_id, api_exception)\n",
      "File \u001b[1;32mc:\\Users\\Admin\\.conda\\envs\\liftout\\lib\\site-packages\\autoscript_core\\orc\\engines.py:192\u001b[0m, in \u001b[0;36mClientEndpoint.perform_call\u001b[1;34m(self, call_request)\u001b[0m\n\u001b[0;32m    189\u001b[0m     api_exception \u001b[39m=\u001b[39m ErrorConverter\u001b[39m.\u001b[39mapi_error_to_api_exception(call_response\u001b[39m.\u001b[39merror)\n\u001b[0;32m    191\u001b[0m     Logging\u001b[39m.\u001b[39mloggers[LogDomain\u001b[39m.\u001b[39mORC]\u001b[39m.\u001b[39mlog_call_error(call_request\u001b[39m.\u001b[39mwide_call_id, CommunicationSide\u001b[39m.\u001b[39mCLIENT, api_exception)\n\u001b[1;32m--> 192\u001b[0m     \u001b[39mraise\u001b[39;00m api_exception\n\u001b[0;32m    194\u001b[0m Logging\u001b[39m.\u001b[39mloggers[LogDomain\u001b[39m.\u001b[39mORC]\u001b[39m.\u001b[39mlog_call_notification(call_request\u001b[39m.\u001b[39mwide_call_id, CallOperationCode\u001b[39m.\u001b[39mLEAVE, CommunicationSide\u001b[39m.\u001b[39mCLIENT, \u001b[39m\"\u001b[39m\u001b[39mCall left client ORC\u001b[39m\u001b[39m\"\u001b[39m)\n\u001b[0;32m    195\u001b[0m \u001b[39mreturn\u001b[39;00m call_response\n",
      "\u001b[1;31mApplicationServerException\u001b[0m: An error occurred in the XT microscope server.\r\nCould not set pattern property, 'StreamPatternFile', due to error:Unknown Error"
     ]
    }
   ],
   "source": [
    "spd = StreamPatternDefinition()\n",
    "spd.points = np.asarray(profile_list)\n",
    "spd.repeat_count = point_count\n",
    "\n",
    "pattern = microscope.patterning.create_stream(0, 0, spd)"
   ]
  },
  {
   "cell_type": "code",
   "execution_count": null,
   "metadata": {},
   "outputs": [],
   "source": []
  }
 ],
 "metadata": {
  "kernelspec": {
   "display_name": "Python 3.9.12 ('liftout')",
   "language": "python",
   "name": "python3"
  },
  "language_info": {
   "codemirror_mode": {
    "name": "ipython",
    "version": 3
   },
   "file_extension": ".py",
   "mimetype": "text/x-python",
   "name": "python",
   "nbconvert_exporter": "python",
   "pygments_lexer": "ipython3",
   "version": "3.9.12"
  },
  "orig_nbformat": 4,
  "vscode": {
   "interpreter": {
    "hash": "5cb17a689ea48522a268bdcd61b0f399058cec9c1acbad013779623d1fd2c02a"
   }
  }
 },
 "nbformat": 4,
 "nbformat_minor": 2
}
