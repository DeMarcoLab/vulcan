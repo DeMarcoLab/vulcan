{
 "cells": [
  {
   "cell_type": "code",
   "execution_count": 4,
   "metadata": {},
   "outputs": [],
   "source": [
    "import numpy as np\n",
    "from matplotlib import pyplot as plt"
   ]
  },
  {
   "cell_type": "code",
   "execution_count": 3,
   "metadata": {},
   "outputs": [
    {
     "name": "stdout",
     "output_type": "stream",
     "text": [
      "-5.057964172279567\n"
     ]
    }
   ],
   "source": [
    "# calculate the overlap area of two circles with a percentage offset\n",
    "def calculate_overlap_area(radius_1: float, radius_2: float, offset: float):\n",
    "    \"\"\"Calculates the overlap area of two circles with a percentage offset\n",
    "\n",
    "    Parameters\n",
    "    ----------\n",
    "    radius_1 : float\n",
    "        radius of the first circle\n",
    "    radius_2 : float\n",
    "        radius of the second circle\n",
    "    offset : float\n",
    "        percentage offset between the two circles\n",
    "\n",
    "    Returns\n",
    "    -------\n",
    "    float\n",
    "        overlap area of the two circles\n",
    "    \"\"\"\n",
    "    # calculate the distance between the centres of the two circles\n",
    "    distance = radius_1 + radius_2 - radius_1 * offset\n",
    "\n",
    "    # calculate the overlap area\n",
    "    overlap_area = np.pi * (radius_1 ** 2 + radius_2 ** 2 - distance ** 2)\n",
    "\n",
    "    return overlap_area\n",
    "\n",
    "radius_1 = 1\n",
    "radius_2 = 1\n",
    "offset = 0.1\n",
    "\n",
    "overlap_area = calculate_overlap_area(radius_1, radius_2, offset)\n",
    "print(overlap_area)\n"
   ]
  },
  {
   "cell_type": "code",
   "execution_count": 30,
   "metadata": {},
   "outputs": [
    {
     "data": {
      "image/png": "[encoded data removed]",
      "text/plain": [
       "<Figure size 640x480 with 1 Axes>"
      ]
     },
     "metadata": {},
     "output_type": "display_data"
    }
   ],
   "source": [
    "# define a 100 x 100 array\n",
    "profile = np.zeros((1000, 1000))\n",
    "profile2 = profile.copy()\n",
    "# place a circle of radius 10 in the centre of the array using skimage\n",
    "from skimage.draw import disk\n",
    "# get centre point of profile\n",
    "radius = 100\n",
    "offset = 1-0.68\n",
    "centre = (profile.shape[0]//2, profile.shape[1]//2 + offset*radius)\n",
    "\n",
    "# create disk at offset of 0.5 * radius from centre\n",
    "rr, cc = disk(centre, radius)\n",
    "profile[rr, cc] = 1\n",
    "\n",
    "centre2 = (profile.shape[0]//2, profile.shape[1]//2 - offset*radius)\n",
    "rr, cc = disk(centre2, radius)\n",
    "profile2[rr, cc] = 1\n",
    "\n",
    "# plt.imshow(profile)\n",
    "# plt.show()\n",
    "# plt.imshow(profile2)\n",
    "# plt.show()\n",
    "\n",
    "# total = np.logical_and(profile, profile2)\n",
    "total = profile + profile2\n",
    "plt.imshow(total)\n",
    "plt.show()\n"
   ]
  },
  {
   "cell_type": "code",
   "execution_count": 31,
   "metadata": {},
   "outputs": [
    {
     "name": "stdout",
     "output_type": "stream",
     "text": [
      "62794.0\n",
      "3141592.653589793\n"
     ]
    }
   ],
   "source": [
    "print(np.sum(total))"
   ]
  },
  {
   "cell_type": "code",
   "execution_count": 20,
   "metadata": {},
   "outputs": [],
   "source": [
    "profile_1um = np.ones(shape=(40, 40)) * 5.e-6\n",
    "profile_100nm = np.ones(shape=(201, 201)) * 5.e-6"
   ]
  },
  {
   "cell_type": "code",
   "execution_count": 21,
   "metadata": {},
   "outputs": [],
   "source": [
    "# plt.imshow(profile_1um)\n",
    "# plt.colorbar()\n",
    "# plt.show()\n",
    "# plt.imshow(profile_100nm)\n",
    "# plt.colorbar()"
   ]
  },
  {
   "cell_type": "code",
   "execution_count": 22,
   "metadata": {},
   "outputs": [
    {
     "name": "stdout",
     "output_type": "stream",
     "text": [
      "8e-15\n"
     ]
    }
   ],
   "source": [
    "# calculate the volume of the 1um profile\n",
    "volume_1um = np.sum(profile_1um*1e-6**2)\n",
    "print(volume_1um)\n"
   ]
  },
  {
   "cell_type": "code",
   "execution_count": 23,
   "metadata": {},
   "outputs": [
    {
     "name": "stdout",
     "output_type": "stream",
     "text": [
      "2.0200500000000006e-15\n"
     ]
    }
   ],
   "source": [
    "# do the same for the 100nm profile\n",
    "volume_100nm = np.sum(profile_100nm*0.1e-6**2)\n",
    "print(volume_100nm)\n"
   ]
  },
  {
   "cell_type": "code",
   "execution_count": 24,
   "metadata": {},
   "outputs": [],
   "source": [
    "def calculate_volume_um(profile, pixel_size):\n",
    "    return np.sum(profile*pixel_size**2) * 1e18\n",
    "    "
   ]
  },
  {
   "cell_type": "code",
   "execution_count": 25,
   "metadata": {},
   "outputs": [
    {
     "name": "stdout",
     "output_type": "stream",
     "text": [
      "2000.0000000000002\n",
      "2020.0500000000006\n"
     ]
    }
   ],
   "source": [
    "print(calculate_volume_um(profile_1um, 0.5e-6))\n",
    "print(calculate_volume_um(profile_100nm, 0.1e-6))"
   ]
  },
  {
   "cell_type": "code",
   "execution_count": null,
   "metadata": {},
   "outputs": [],
   "source": []
  },
  {
   "cell_type": "code",
   "execution_count": null,
   "metadata": {},
   "outputs": [],
   "source": []
  }
 ],
 "metadata": {
  "kernelspec": {
   "display_name": "Python 3.9.15 ('vulcan')",
   "language": "python",
   "name": "python3"
  },
  "language_info": {
   "codemirror_mode": {
    "name": "ipython",
    "version": 3
   },
   "file_extension": ".py",
   "mimetype": "text/x-python",
   "name": "python",
   "nbconvert_exporter": "python",
   "pygments_lexer": "ipython3",
   "version": "3.9.15"
  },
  "orig_nbformat": 4,
  "vscode": {
   "interpreter": {
    "hash": "60f9998379010ddea17c71e15acccabcc2921a04aa9d5e1317129bf5821ff4c2"
   }
  }
 },
 "nbformat": 4,
 "nbformat_minor": 2
}
