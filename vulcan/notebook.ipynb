{
 "cells": [
  {
   "cell_type": "code",
   "execution_count": 1,
   "metadata": {},
   "outputs": [],
   "source": [
    "%load_ext autoreload\n",
    "%autoreload 2\n",
    "from vulcan import utils\n",
    "\n",
    "import matplotlib.pyplot as plt\n",
    "\n",
    "from fibsem import utils as fibsem_utils\n",
    "from fibsem import milling\n",
    "from fibsem.structures import MillingSettings\n",
    "from autoscript_sdb_microscope_client.structures import BitmapPatternDefinition\n",
    "import vulcan\n",
    "import os\n",
    "\n",
    "# path = r\"C:\\Users\\Admin\\Github\\vulcan\\vulcan\\profiles\\gigachad.bmp\"\n",
    "# path = r\"C:\\Users\\Admin\\Github\\vulcan\\vulcan\\profiles\\calibration\\1e-06_rect.bmp\"\n",
    "\n",
    "\n",
    "BASE_PATH = os.path.dirname(vulcan.__file__)\n"
   ]
  },
  {
   "cell_type": "code",
   "execution_count": 2,
   "metadata": {},
   "outputs": [
    {
     "name": "stderr",
     "output_type": "stream",
     "text": [
      "2022-10-07 15:03:00,284 — root — INFO — connect_to_microscope:31 — Microscope client connecting to [10.0.0.1]\n",
      "2022-10-07 15:03:00,293 — root — INFO — connect_to_microscope:34 — Microscope client connected to [10.0.0.1]\n",
      "2022-10-07 15:03:00,293 — root — INFO — setup_session:252 — Finished setup for session: vulcan_demo_2022-10-07.03-03-00PM\n"
     ]
    },
    {
     "name": "stdout",
     "output_type": "stream",
     "text": [
      "Client connecting to [10.0.0.1:7520]...\n",
      "Client connected to [10.0.0.1:7520]\n"
     ]
    }
   ],
   "source": [
    "microscope, settings = fibsem_utils.setup_session(\n",
    "    config_path=os.path.join(BASE_PATH, \"config\"), \n",
    "    protocol_path=os.path.join(BASE_PATH, \"protocol.yaml\"))"
   ]
  },
  {
   "cell_type": "markdown",
   "metadata": {},
   "source": [
    "# 200nA\n",
    "p:1um\n",
    "o: 0.58\n",
    "o_step: 0.58um\n",
    "gap: 0.29um\n",
    "offset: 0.145um\n",
    "\n",
    "\n",
    "\n",
    "# 60nA\n",
    "p: 0.2um\n",
    "o: 0.87\n",
    "ostep: 0.74um\n",
    "gap: 0.087um\n",
    "cos : 0.0435\n",
    "\n",
    "\n",
    "\n",
    "p: 0.65um\n",
    "o: 0.58\n",
    "ostep: 0.377\n",
    "gap: 0.1885\n",
    "cos: 0.09425\n",
    "\n",
    "\n",
    "eq:\n",
    "p = pitch (pixelsize)\n",
    "o = overlap (percentage)\n",
    "o_step: beam step size (pitch * overlap)\n",
    "gap: o_step / 2\n",
    "cos: gap / 2\n"
   ]
  },
  {
   "cell_type": "code",
   "execution_count": 55,
   "metadata": {},
   "outputs": [
    {
     "data": {
      "text/plain": [
       "0.1885"
      ]
     },
     "execution_count": 55,
     "metadata": {},
     "output_type": "execute_result"
    }
   ],
   "source": [
    "0.65*0.58 / 2"
   ]
  },
  {
   "cell_type": "code",
   "execution_count": 39,
   "metadata": {},
   "outputs": [
    {
     "data": {
      "text/plain": [
       "0.17400000000000002"
      ]
     },
     "execution_count": 39,
     "metadata": {},
     "output_type": "execute_result"
    }
   ],
   "source": [
    "0.87*0.2 # pitch"
   ]
  },
  {
   "cell_type": "code",
   "execution_count": 74,
   "metadata": {},
   "outputs": [
    {
     "name": "stderr",
     "output_type": "stream",
     "text": [
      "2022-10-07 17:52:36,528 — root — INFO — setup_milling:35 — setup ion beam milling\n",
      "2022-10-07 17:52:36,529 — root — INFO — setup_milling:36 — application file:  Si, pattern mode: Serial, hfw: 8e-05\n"
     ]
    },
    {
     "data": {
      "image/png": "[encoded data removed]",
      "text/plain": [
       "<Figure size 640x480 with 2 Axes>"
      ]
     },
     "metadata": {},
     "output_type": "display_data"
    }
   ],
   "source": [
    "milling.setup_milling(\n",
    "    microscope, \n",
    "    application_file=settings.system.application_file,\n",
    "    hfw=80e-6\n",
    ")\n",
    "\n",
    "microscope.patterning.clear_patterns()\n",
    "\n",
    "import numpy as np\n",
    "\n",
    "# profile pattern\n",
    "# np_path = r\"C:\\Users\\Admin\\Github\\vulcan\\vulcan\\profiles\\1e-06_profile.npy\"\n",
    "# arr = np.load(np_path)\n",
    "\n",
    "arr = np.ones(shape=(30, 30))\n",
    "\n",
    "path  = r\"C:\\Users\\Admin\\Github\\vulcan\\vulcan\\profiles\\calibration/stitching.bmp\"\n",
    "arr = utils.transform_profile(arr, invert=False, rotate=False)\n",
    "plt.imshow(arr, cmap=\"gray\")\n",
    "plt.colorbar()\n",
    "plt.show()\n",
    "utils.save_profile_to_bmp(arr, path)\n",
    "\n",
    "# mill_settings = MillingSettings(width =800e-6, height=400e-6, depth=0.6e-6)\n",
    "# pattern = milling._draw_rectangle_pattern_v2(microscope, mill_settings)\n",
    "\n",
    "width = 20e-6\n",
    "offset = 1.4e-6\n",
    "\n",
    "mill_settings = MillingSettings(centre_x = 0 , width = 2*(width+offset) + 10e-6, height=25e-6, depth=0.6e-6)\n",
    "rect_pattern = milling._draw_rectangle_pattern_v2(microscope, mill_settings)\n",
    "\n",
    "bitmap_pattern  =  BitmapPatternDefinition.load(path)\n",
    "mill_settings = MillingSettings(centre_x = -width/2 - offset, width =width, height=20e-6, depth=2e-6)\n",
    "pattern1 = milling._draw_bitmap_pattern(microscope, mill_settings, bitmap_pattern)\n",
    "pattern1.scan_direction = \"RightToLeft\"\n",
    "\n",
    "bitmap_pattern  =  BitmapPatternDefinition.load(path)\n",
    "mill_settings = MillingSettings(centre_x = +width/2 + offset, width=width, height=20e-6, depth=2e-6)\n",
    "pattern2 = milling._draw_bitmap_pattern(microscope, mill_settings, bitmap_pattern)\n",
    "pattern2.scan_direction = \"LeftToRight\"\n",
    "\n",
    "microscope.patterning.mode = \"Serial\""
   ]
  },
  {
   "cell_type": "code",
   "execution_count": 76,
   "metadata": {},
   "outputs": [
    {
     "name": "stderr",
     "output_type": "stream",
     "text": [
      "2022-10-07 18:06:19,067 — root — INFO — autocontrast:27 — automatically adjusting contrast...\n",
      "2022-10-07 18:06:19,514 — root — INFO — acquire_image:186 — acquiring new ELECTRON image.\n",
      "2022-10-07 18:06:21,522 — root — INFO — auto_gamma:86 — AUTO_GAMMA | Electron | -18.933 | 1.000\n"
     ]
    }
   ],
   "source": [
    "from fibsem import acquire\n",
    "from fibsem.structures import BeamType\n",
    "\n",
    "settings.image.save_path = r\"C:\\Users\\Admin\\Github\\vulcan\\vulcan\\vulcan_demo_2022-10-07.03-03-00PM\\60nA\"\n",
    "settings.image.beam_type = BeamType.ELECTRON\n",
    "settings.image.hfw = 60e-6\n",
    "settings.image.save = True\n",
    "settings.image.label = f\"st_{offset*1e6}um_offset_serial_r2l_l2r_sm\"\n",
    "image = acquire.new_image(microscope, settings.image)"
   ]
  },
  {
   "cell_type": "code",
   "execution_count": 19,
   "metadata": {},
   "outputs": [
    {
     "name": "stderr",
     "output_type": "stream",
     "text": [
      "2022-10-07 15:48:01,145 — root — INFO — auto_discharge_beam:141 — Bring me Thanos!\n",
      "2022-10-07 15:48:01,150 — root — INFO — acquire_image:186 — acquiring new ELECTRON image.\n",
      "2022-10-07 15:48:01,590 — root — INFO — auto_gamma:86 — AUTO_GAMMA | Electron | 27.029 | 1.000\n",
      "2022-10-07 15:48:01,599 — root — INFO — acquire_image:186 — acquiring new ELECTRON image.\n",
      "2022-10-07 15:48:01,950 — root — INFO — auto_gamma:86 — AUTO_GAMMA | Electron | 29.468 | 1.000\n",
      "2022-10-07 15:48:01,956 — root — INFO — acquire_image:186 — acquiring new ELECTRON image.\n",
      "2022-10-07 15:48:02,296 — root — INFO — auto_gamma:86 — AUTO_GAMMA | Electron | 30.972 | 1.000\n",
      "2022-10-07 15:48:02,305 — root — INFO — acquire_image:186 — acquiring new ELECTRON image.\n",
      "2022-10-07 15:48:02,651 — root — INFO — auto_gamma:86 — AUTO_GAMMA | Electron | 31.923 | 1.000\n",
      "2022-10-07 15:48:02,657 — root — INFO — acquire_image:186 — acquiring new ELECTRON image.\n",
      "2022-10-07 15:48:02,992 — root — INFO — auto_gamma:86 — AUTO_GAMMA | Electron | 32.948 | 1.000\n",
      "2022-10-07 15:48:02,999 — root — INFO — acquire_image:186 — acquiring new ELECTRON image.\n",
      "2022-10-07 15:48:03,340 — root — INFO — auto_gamma:86 — AUTO_GAMMA | Electron | 33.714 | 1.000\n",
      "2022-10-07 15:48:03,345 — root — INFO — acquire_image:186 — acquiring new ELECTRON image.\n",
      "2022-10-07 15:48:03,701 — root — INFO — auto_gamma:86 — AUTO_GAMMA | Electron | 34.487 | 1.000\n",
      "2022-10-07 15:48:03,707 — root — INFO — acquire_image:186 — acquiring new ELECTRON image.\n",
      "2022-10-07 15:48:04,048 — root — INFO — auto_gamma:86 — AUTO_GAMMA | Electron | 35.600 | 1.000\n",
      "2022-10-07 15:48:04,054 — root — INFO — acquire_image:186 — acquiring new ELECTRON image.\n",
      "2022-10-07 15:48:04,395 — root — INFO — auto_gamma:86 — AUTO_GAMMA | Electron | 36.080 | 1.000\n",
      "2022-10-07 15:48:04,402 — root — INFO — acquire_image:186 — acquiring new ELECTRON image.\n",
      "2022-10-07 15:48:04,748 — root — INFO — auto_gamma:86 — AUTO_GAMMA | Electron | 36.940 | 1.000\n",
      "2022-10-07 15:48:04,753 — root — INFO — autocontrast:27 — automatically adjusting contrast...\n",
      "2022-10-07 15:48:05,420 — root — INFO — acquire_image:186 — acquiring new ELECTRON image.\n",
      "2022-10-07 15:48:07,394 — root — INFO — auto_gamma:86 — AUTO_GAMMA | Electron | 39.770 | 1.000\n"
     ]
    }
   ],
   "source": [
    "from fibsem import calibration\n",
    "\n",
    "calibration.auto_discharge_beam(microscope, settings.image)"
   ]
  },
  {
   "cell_type": "markdown",
   "metadata": {},
   "source": [
    "### Calibration\n",
    "\n",
    "Resolution vs Depth\n",
    "\n",
    "How does changing the resolution of the bitmap pattern affect the depth?"
   ]
  },
  {
   "cell_type": "code",
   "execution_count": null,
   "metadata": {},
   "outputs": [],
   "source": [
    "milling.setup_milling(\n",
    "    microscope, \n",
    "    application_file=settings.system.application_file,\n",
    "    hfw=400e-6\n",
    ")"
   ]
  },
  {
   "cell_type": "code",
   "execution_count": null,
   "metadata": {},
   "outputs": [],
   "source": [
    "# paths = range(4)\n",
    "# paths = [r\"C:\\Users\\Admin\\Github\\vulcan\\vulcan\\profiles\\calibration\\1e-06_profile.bmp\"]\n",
    "# r\"C:\\Users\\Admin\\Github\\vulcan\\vulcan\\profiles\\calibration\\1e-06_rect.bmp\"]\n",
    "\n",
    "\n",
    "\n",
    "microscope.patterning.clear_patterns()\n",
    "\n",
    "width = 800e-6\n",
    "height = 400e-6\n",
    "depth = 5e-6\n",
    "offset = 0e-6\n",
    "center_x = 0\n",
    "center_y = -(len(paths) - 1) / 2 * (height + offset) \n",
    "\n",
    "mill_settings = MillingSettings(centre_x=center_x, centre_y=0, \n",
    "    width=width, \n",
    "    height=height, \n",
    "    depth=600e-9)\n",
    "\n",
    "pattern = milling._draw_rectangle_pattern_v2(microscope, mill_settings)\n",
    "\n",
    "\n",
    "for path in paths:\n",
    "\n",
    "    # profile pattern\n",
    "    bitmap_pattern  =  BitmapPatternDefinition.load(path)\n",
    "    mill_settings = MillingSettings(centre_x=center_x, centre_y=center_y, width=width, height=height, depth=depth)\n",
    "    pattern = milling._draw_bitmap_pattern(microscope, mill_settings, bitmap_pattern)\n",
    "\n",
    "    print(mill_settings)\n",
    "\n",
    "    center_y +=  height + offset"
   ]
  },
  {
   "cell_type": "code",
   "execution_count": null,
   "metadata": {},
   "outputs": [],
   "source": []
  },
  {
   "cell_type": "code",
   "execution_count": null,
   "metadata": {},
   "outputs": [],
   "source": [
    "import numpy as np\n",
    "import matplotlib.pyplot as plt\n",
    "\n",
    "# np_path = r\"C:\\Users\\Admin\\Github\\vulcan\\vulcan\\profiles\\calibration/1e-06_profile.npy\"\n",
    "np_path = r\"C:\\Users\\Admin\\Github\\vulcan\\vulcan\\profiles\\lens_lowres_half.npy\"\n",
    "arr = np.load(np_path)\n",
    "\n",
    "print(arr.shape)\n",
    "plt.plot(arr[0])\n",
    "plt.show()\n",
    "\n",
    "# dirname = os.path.dirname(np_path)\n",
    "# fname = os.path.basename(np_path).split(\".\")[0]\n",
    "# fname = np_path.replace(\"npy\", \"bmp\")\n",
    "# print(fname)\n",
    "\n",
    "arr = utils.transform_profile(arr, invert=True, rotate=False)\n",
    "utils.save_profile_to_bmp(arr, fname)"
   ]
  },
  {
   "cell_type": "code",
   "execution_count": null,
   "metadata": {},
   "outputs": [],
   "source": [
    "print(\"30x: \", arr.shape[1] * 30)\n",
    "print(\"100x (10nm): \", arr.shape[1] * 100)\n",
    "print(\"1000x (1nm): \", arr.shape[1] * 1000)"
   ]
  },
  {
   "cell_type": "code",
   "execution_count": null,
   "metadata": {},
   "outputs": [],
   "source": [
    "from PIL import Image\n",
    "import matplotlib.pyplot as plt\n",
    "from pathlib import Path\n",
    "import tifffile as tf\n",
    "import numpy as np\n",
    "\n",
    "path = r\"C:\\Users\\Admin\\Github\\vulcan\\vulcan\\profiles\\helloworld.tif\"\n",
    "\n",
    "utils.convert_tif_to_bmp(path, \"pattern.bmp\")\n",
    "\n",
    "plt.imshow(arr)\n",
    "plt.show()"
   ]
  },
  {
   "cell_type": "code",
   "execution_count": null,
   "metadata": {},
   "outputs": [],
   "source": [
    "x = \"Hello world\"\n",
    "print(str(x))\n"
   ]
  },
  {
   "cell_type": "code",
   "execution_count": null,
   "metadata": {},
   "outputs": [],
   "source": [
    "\n",
    "arr = np.ones(shape=(200, 40))\n",
    "path = r\"C:\\Users\\Admin\\Github\\vulcan\\vulcan\\profiles\\calibration\"\n",
    "fname = os.path.join(path, f\"{arr.shape[0]}.{arr.shape[1]}.bmp\")\n",
    "utils.save_profile_to_bmp(arr, fname)\n",
    "\n",
    "print(\"elements: \", arr.size)\n",
    "# microscope.patterning.clear_patterns()\n",
    "\n",
    "width = 40e-6\n",
    "height = 20e-6\n",
    "depth_step = 3e-6\n",
    "offset = 30e-6\n",
    "center_x = 0\n",
    "center_y = -(2 - 1) / 2 * (height + offset) \n",
    "\n",
    "# center_y = 0\n",
    "# mill_settings = MillingSettings(centre_x=center_x, centre_y=0, \n",
    "#     width=width, \n",
    "#     height=height, \n",
    "#     depth=600e-9)\n",
    "\n",
    "# pattern = milling._draw_rectangle_pattern_v2(microscope, mill_settings)\n",
    "\n",
    "depth = 2e-6\n",
    "\n",
    "for i in range(2):\n",
    "\n",
    "    # profile pattern\n",
    "    bitmap_pattern  =  BitmapPatternDefinition.load(fname)\n",
    "    mill_settings = MillingSettings(centre_x=center_x, centre_y=center_y, width=width, height=height, depth=depth)\n",
    "    pattern = milling._draw_bitmap_pattern(microscope, mill_settings, bitmap_pattern)\n",
    "    \n",
    "    center_y +=  height + offset\n",
    "    depth += depth_step\n",
    "\n",
    "    print(\"depth: \", pattern.depth)\n",
    "    print(\"passes: \", pattern.pass_count)\n",
    "    print(\"vol per dose: \", pattern.volume_per_dose)\n",
    "    print(\"dose: \", pattern.dose)\n"
   ]
  },
  {
   "cell_type": "code",
   "execution_count": null,
   "metadata": {},
   "outputs": [],
   "source": [
    "pattern.dose *= 2.5"
   ]
  },
  {
   "cell_type": "code",
   "execution_count": null,
   "metadata": {},
   "outputs": [],
   "source": [
    "pattern.depth\n"
   ]
  },
  {
   "cell_type": "code",
   "execution_count": null,
   "metadata": {},
   "outputs": [],
   "source": [
    "rect_pattern.dose"
   ]
  },
  {
   "cell_type": "code",
   "execution_count": null,
   "metadata": {},
   "outputs": [],
   "source": [
    "pattern.depth"
   ]
  },
  {
   "cell_type": "code",
   "execution_count": null,
   "metadata": {},
   "outputs": [],
   "source": [
    "pattern.dwell_time"
   ]
  },
  {
   "cell_type": "code",
   "execution_count": null,
   "metadata": {},
   "outputs": [],
   "source": []
  },
  {
   "cell_type": "code",
   "execution_count": null,
   "metadata": {},
   "outputs": [],
   "source": []
  },
  {
   "cell_type": "code",
   "execution_count": null,
   "metadata": {},
   "outputs": [],
   "source": [
    "import numpy as np\n",
    "\n",
    "arr = np.ones(shape=(200, 200))\n",
    "\n",
    "fname = r\"C:\\Users\\Admin\\Github\\vulcan\\vulcan\\profiles\\calibration/1um.bmp\"\n",
    "arr = utils.transform_profile(arr, invert=False, rotate=False)\n",
    "utils.save_profile_to_bmp(arr, fname)"
   ]
  },
  {
   "cell_type": "code",
   "execution_count": null,
   "metadata": {},
   "outputs": [],
   "source": []
  },
  {
   "cell_type": "code",
   "execution_count": 44,
   "metadata": {},
   "outputs": [
    {
     "name": "stdout",
     "output_type": "stream",
     "text": [
      "(200, 881)\n"
     ]
    },
    {
     "data": {
      "image/png": "[encoded data removed]",
      "text/plain": [
       "<Figure size 640x480 with 2 Axes>"
      ]
     },
     "metadata": {},
     "output_type": "display_data"
    }
   ],
   "source": [
    "np_path = r\"C:\\Users\\Admin\\Github\\vulcan\\vulcan\\profiles\\lens_lowres_half.npy\"\n",
    "arr = np.load(np_path)\n",
    "\n",
    "print(arr.shape)\n",
    "plt.imshow(arr)\n",
    "plt.colorbar()\n",
    "plt.show()"
   ]
  },
  {
   "cell_type": "code",
   "execution_count": 47,
   "metadata": {},
   "outputs": [
    {
     "name": "stdout",
     "output_type": "stream",
     "text": [
      "(881, 200)\n"
     ]
    },
    {
     "data": {
      "image/png": "[encoded data removed]",
      "text/plain": [
       "<Figure size 640x480 with 2 Axes>"
      ]
     },
     "metadata": {},
     "output_type": "display_data"
    }
   ],
   "source": [
    "img_path = r\"C:\\Users\\Admin\\Github\\vulcan\\vulcan\\profiles\\lens_lowres_half.bmp\"\n",
    "\n",
    "from PIL import Image\n",
    "\n",
    "img = Image.open(img_path)\n",
    "\n",
    "print(img.size)\n",
    "plt.imshow(img, cmap=\"gray\")\n",
    "plt.colorbar()\n",
    "plt.show()"
   ]
  },
  {
   "cell_type": "code",
   "execution_count": null,
   "metadata": {},
   "outputs": [],
   "source": []
  }
 ],
 "metadata": {
  "kernelspec": {
   "display_name": "Python 3.9.12 ('liftout')",
   "language": "python",
   "name": "python3"
  },
  "language_info": {
   "codemirror_mode": {
    "name": "ipython",
    "version": 3
   },
   "file_extension": ".py",
   "mimetype": "text/x-python",
   "name": "python",
   "nbconvert_exporter": "python",
   "pygments_lexer": "ipython3",
   "version": "3.9.12"
  },
  "orig_nbformat": 4,
  "vscode": {
   "interpreter": {
    "hash": "5cb17a689ea48522a268bdcd61b0f399058cec9c1acbad013779623d1fd2c02a"
   }
  }
 },
 "nbformat": 4,
 "nbformat_minor": 2
}
