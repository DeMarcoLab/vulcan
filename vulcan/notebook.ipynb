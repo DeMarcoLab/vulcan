{
 "cells": [
  {
   "cell_type": "code",
   "execution_count": null,
   "metadata": {},
   "outputs": [],
   "source": [
    "%load_ext autoreload\n",
    "%autoreload 2\n",
    "from vulcan import utils\n",
    "\n",
    "import matplotlib.pyplot as plt\n",
    "\n",
    "from fibsem import utils as fibsem_utils\n",
    "from fibsem import milling, calibration, acquire, movement\n",
    "from fibsem.structures import MillingSettings, BeamType\n",
    "from autoscript_sdb_microscope_client.structures import BitmapPatternDefinition\n",
    "import vulcan\n",
    "import os\n",
    "\n",
    "import numpy as np\n",
    "\n",
    "# path = r\"C:\\Users\\Admin\\Github\\vulcan\\vulcan\\profiles\\gigachad.bmp\"\n",
    "# path = r\"C:\\Users\\Admin\\Github\\vulcan\\vulcan\\profiles\\calibration\\1e-06_rect.bmp\"\n",
    "\n",
    "\n",
    "BASE_PATH = os.path.dirname(vulcan.__file__)\n"
   ]
  },
  {
   "cell_type": "code",
   "execution_count": null,
   "metadata": {},
   "outputs": [],
   "source": [
    "microscope, settings = fibsem_utils.setup_session(\n",
    "    config_path=os.path.join(BASE_PATH, \"config\"), \n",
    "    protocol_path=os.path.join(BASE_PATH, \"protocol.yaml\"), \n",
    "    )"
   ]
  },
  {
   "cell_type": "markdown",
   "metadata": {},
   "source": [
    "# 200nA\n",
    "p:1um\n",
    "o: 0.58\n",
    "o_step: 0.58um\n",
    "gap: 0.29um\n",
    "offset: 0.145um\n",
    "\n",
    "\n",
    "\n",
    "# 60nA\n",
    "p: 0.2um\n",
    "o: 0.87\n",
    "ostep: 0.74um\n",
    "gap: 0.087um\n",
    "cos : 0.0435\n",
    "\n",
    "\n",
    "\n",
    "p: 0.65um\n",
    "o: 0.58\n",
    "ostep: 0.377\n",
    "gap: 0.1885\n",
    "cos: 0.09425\n",
    "\n",
    "\n",
    "eq:\n",
    "p = pitch (pixelsize)\n",
    "o = overlap (percentage)\n",
    "o_step: beam step size (pitch * overlap)\n",
    "gap: o_step / 2\n",
    "cos: gap / 2\n"
   ]
  },
  {
   "cell_type": "code",
   "execution_count": null,
   "metadata": {},
   "outputs": [],
   "source": [
    "# max pattern point limit (npxiels)\n",
    "# approx 3k x 2k (6m)"
   ]
  },
  {
   "cell_type": "code",
   "execution_count": null,
   "metadata": {},
   "outputs": [],
   "source": [
    "dir_path = r\"C:\\Users\\Admin\\Github\\vulcan\\vulcan\\submicron_2022-10-24.05-57-53PM\"\n",
    "np_path = os.path.join(dir_path, \"sub_um_escape.npy\")\n",
    "arr = np.load(np_path)\n",
    "\n",
    "print(arr.shape)\n",
    "# split pattern into 3 smaller parts \n",
    "dy, dx = np.asarray(arr.shape) // 3\n",
    "split_arr = arr[:dy, :]\n",
    "\n",
    "def decompose_arr(arr, n_decomp: int = 3) -> list[np.ndarray]:\n",
    "\n",
    "    max_h = np.max(arr)\n",
    "    frac = 1/n_decomp\n",
    "\n",
    "    decomp = []\n",
    "    min_h = 0\n",
    "    for i in range(n_decomp):\n",
    "        top_h = (i+1)* frac * max_h\n",
    "        print(i, min_h, top_h)\n",
    "\n",
    "        arr_deco = np.clip(arr, min_h, top_h) - min_h\n",
    "        decomp.append(arr_deco)\n",
    "        min_h = top_h\n",
    "\n",
    "    return decomp\n",
    "\n",
    "# decompose pattern into sub-patterns\n",
    "decomp = decompose_arr(split_arr, n_decomp=3)\n",
    "\n",
    "cy, cx = np.asarray(split_arr.shape) // 2\n",
    "\n",
    "fig, ax = plt.subplots(1, len(decomp)+1, figsize=(15, 7), sharey=True)\n",
    "ax[0].plot(arr[cy, :])\n",
    "for i, decomp_arr in enumerate(decomp, 1):\n",
    "    ax[i].plot(decomp_arr[cy, :])\n",
    "# ax[1].plot(arr_s[0][cy, :])\n",
    "# ax[2].plot(arr_s[1][cy, :])\n",
    "# ax[3].plot(arr_s[2][cy, :])\n",
    "plt.show()\n",
    "\n"
   ]
  },
  {
   "cell_type": "markdown",
   "metadata": {},
   "source": [
    "### Pattern Decomposition"
   ]
  },
  {
   "cell_type": "code",
   "execution_count": null,
   "metadata": {},
   "outputs": [],
   "source": [
    "# apply each pattern as bmp\n",
    "\n",
    "milling.setup_milling(\n",
    "    microscope, \n",
    "    application_file=settings.system.application_file,\n",
    "    hfw=900e-6\n",
    ")\n",
    "\n",
    "microscope.patterning.clear_patterns()\n",
    "\n",
    "size_decomp = 3\n",
    "pattern_decomp = 3\n",
    "\n",
    "dir_path = r\"C:\\Users\\Admin\\Github\\vulcan\\vulcan\\submicron_2022-10-24.05-57-53PM\"\n",
    "np_path = os.path.join(dir_path, \"sub_um_escape_250nm.npy\")\n",
    "arr = np.load(np_path)\n",
    "\n",
    "# split pattern into 3 smaller parts \n",
    "dy, dx = np.asarray(arr.shape) // size_decomp\n",
    "split_arr = arr[:dy, :]\n",
    "\n",
    "# decompose pattern into sub-patterns\n",
    "decomp = decompose_arr(split_arr, n_decomp=pattern_decomp)\n",
    "\n",
    "# plot decomp\n",
    "fig, ax = plt.subplots(1, len(decomp)+1, figsize=(15, 7), sharey=True)\n",
    "ax[0].plot(split_arr[cy, :])\n",
    "for i, decomp_arr in enumerate(decomp, 1):\n",
    "    ax[i].plot(decomp_arr[cy, :])\n",
    "plt.show()\n",
    "\n",
    "\n",
    "width = 300e-6/size_decomp\n",
    "height = 240e-6\n",
    "# depth = 8.85178e-6\n",
    "\n",
    "mill_settings = MillingSettings(centre_x = 0, width=width * size_decomp, height=height, depth=0.6e-6)\n",
    "rect_pattern = milling._draw_rectangle_pattern_v2(microscope, mill_settings)\n",
    "\n",
    "for i, decomp_arr in enumerate(decomp):\n",
    "\n",
    "    path  = os.path.join(dir_path, f\"profile_{i}.bmp\")\n",
    "    decomp_arr = utils.transform_profile(decomp_arr, invert=True, rotate=True)\n",
    "    \n",
    "    plt.imshow(decomp_arr, cmap=\"gray\")\n",
    "    plt.colorbar()\n",
    "    plt.show()\n",
    "    utils.save_profile_to_bmp(decomp_arr, path)\n",
    "\n",
    "    depth = np.max(decomp_arr)\n",
    "    print(i, depth)\n",
    "\n",
    "    # bmp milling\n",
    "    bitmap_pattern  =  BitmapPatternDefinition.load(path)\n",
    "    \n",
    "    for w in [-width, 0, width]:\n",
    "    \n",
    "        mill_settings = MillingSettings(centre_x = w, width = width, height=height, depth=depth)\n",
    "        pattern1 = milling._draw_bitmap_pattern(microscope, mill_settings, bitmap_pattern)\n",
    "        pattern1.scan_direction = \"DynamicAllDirections\"\n",
    "\n",
    "microscope.patterning.mode = \"Parallel\"\n"
   ]
  },
  {
   "cell_type": "code",
   "execution_count": null,
   "metadata": {},
   "outputs": [],
   "source": []
  },
  {
   "cell_type": "code",
   "execution_count": null,
   "metadata": {},
   "outputs": [],
   "source": [
    "milling.setup_milling(\n",
    "    microscope, \n",
    "    application_file=settings.system.application_file,\n",
    "    hfw=900e-6\n",
    ")\n",
    "\n",
    "# dir_path = r\"C:\\Users\\Admin\\Github\\vulcan\\vulcan\\submicron_2022-10-11.04-19-59PM\"\n",
    "# dir_path = r\"C:\\Users\\Admin\\Github\\vulcan\\vulcan\\submicron_2022-10-12.12-16-08PM\"\n",
    "\n",
    "dir_path = settings.image.save_path\n",
    "microscope.patterning.clear_patterns()\n",
    "\n",
    "# profile pattern\n",
    "np_path = os.path.join(dir_path, \"sub_um_escape.npy\")\n",
    "arr = np.load(np_path)\n",
    "\n",
    "dy, dx = np.asarray(arr.shape) // 3\n",
    "\n",
    "split_arr = arr[:dy, :]\n",
    "plt.imshow(split_arr, cmap=\"gray\")\n",
    "plt.show()\n",
    "\n",
    "# arr = np.ones(shape=(30, 30))\n",
    "\n",
    "path  = os.path.join(dir_path, \"profile.bmp\")\n",
    "arr = utils.transform_profile(arr, invert=True, rotate=True)\n",
    "plt.imshow(arr, cmap=\"gray\")\n",
    "plt.colorbar()\n",
    "plt.show()\n",
    "utils.save_profile_to_bmp(arr, path)\n",
    "\n",
    "\n",
    "width = 300e-6\n",
    "height = 240e-6\n",
    "depth = 8.85178e-6\n",
    "\n",
    "mill_settings = MillingSettings(centre_x = 0, width=width, height=height, depth=0.6e-6)\n",
    "rect_pattern = milling._draw_rectangle_pattern_v2(microscope, mill_settings)\n",
    "\n",
    "# bmp milling\n",
    "bitmap_pattern  =  BitmapPatternDefinition.load(path)\n",
    "mill_settings = MillingSettings(centre_x = 0, width =width, height=height, depth=depth)\n",
    "pattern1 = milling._draw_bitmap_pattern(microscope, mill_settings, bitmap_pattern)\n",
    "pattern1.scan_direction = \"DynamicAllDirections\"\n",
    "\n"
   ]
  },
  {
   "cell_type": "code",
   "execution_count": null,
   "metadata": {},
   "outputs": [],
   "source": [
    "milling.setup_milling(\n",
    "    microscope, \n",
    "    application_file=settings.system.application_file,\n",
    "    hfw=80e-6\n",
    ")\n",
    "# surface milling\n",
    "mill_settings = MillingSettings(centre_x = -width/2 - offset, width =width, height=20e-6, depth=0.6e-6)\n",
    "rect_pattern = milling._draw_rectangle_pattern_v2(microscope, mill_settings)\n",
    "\n",
    "\n",
    "milling.run_milling(microscope, milling_current=60e-9)"
   ]
  },
  {
   "cell_type": "code",
   "execution_count": null,
   "metadata": {},
   "outputs": [],
   "source": [
    "calibration.auto_discharge_beam(microscope, settings.image, n_iterations=n_iteration)"
   ]
  },
  {
   "cell_type": "code",
   "execution_count": null,
   "metadata": {},
   "outputs": [],
   "source": [
    "milling.setup_milling(\n",
    "    microscope, \n",
    "    application_file=settings.system.application_file,\n",
    "    hfw=80e-6\n",
    ")\n",
    "\n",
    "# surface milling\n",
    "# mill_settings = MillingSettings(centre_x = -width/2 - offset, width =width, height=20e-6, depth=0.6e-6)\n",
    "# rect_pattern = milling._draw_rectangle_pattern_v2(microscope, mill_settings)\n",
    "\n",
    "\n",
    "# mill_settings = MillingSettings(centre_x = +width/2 + offset, width=width, height=20e-6, depth=0.6e-6)\n",
    "# rect_pattern = milling._draw_rectangle_pattern_v2(microscope, mill_settings)\n",
    "\n",
    "# # bmp milling\n",
    "# bitmap_pattern  =  BitmapPatternDefinition.load(path)\n",
    "# mill_settings = MillingSettings(centre_x = -width/2 - offset, width =width, height=20e-6, depth=2e-6)\n",
    "# pattern1 = milling._draw_bitmap_pattern(microscope, mill_settings, bitmap_pattern)\n",
    "# pattern1.scan_direction = \"RightToLeft\"\n",
    "\n",
    "# pattern1.scan_direction = \"DynamicAllDirections\"\n",
    "\n",
    "\n",
    "bitmap_pattern  =  BitmapPatternDefinition.load(path)\n",
    "mill_settings = MillingSettings(centre_x = +width/2 + offset, width=width, height=20e-6, depth=2e-6)\n",
    "pattern2 = milling._draw_bitmap_pattern(microscope, mill_settings, bitmap_pattern)\n",
    "pattern2.scan_direction = \"LeftToRight\"\n",
    "# pattern2.scan_direction = \"DynamicAllDirections\"\n",
    "\n",
    "\n",
    "microscope.patterning.mode = \"Serial\"\n",
    "\n",
    "# milling.run_milling(microscope, milling_current=60e-9, asynch=True)\n",
    "\n",
    "    "
   ]
  },
  {
   "cell_type": "code",
   "execution_count": null,
   "metadata": {},
   "outputs": [],
   "source": [
    "milling.setup_milling(\n",
    "    microscope, \n",
    "    application_file=settings.system.application_file,\n",
    "    hfw=80e-6\n",
    ")\n",
    "\n",
    "# total\n",
    "total_width = 40e-6\n",
    "\n",
    "# pattern\n",
    "width = 20e-6\n",
    "height = 20e-6\n",
    "depth = 0.6e-6\n",
    "bitmap_depth = 1e-6\n",
    "\n",
    "\n",
    "STEP_SIZE = width / 2\n",
    "N_STEPS = 3\n",
    "centre_x = - (N_STEPS - 1) * STEP_SIZE\n",
    "\n",
    "\n",
    "mill_settings = MillingSettings(centre_x = 0 , width = total_width, height=height, depth=depth)\n",
    "rect_pattern = milling._draw_rectangle_pattern_v2(microscope, mill_settings)\n",
    "\n",
    "for i in range(N_STEPS):\n",
    "\n",
    "    centre_x += STEP_SIZE\n",
    "\n",
    "    bitmap_pattern  =  BitmapPatternDefinition.load(path)\n",
    "    mill_settings = MillingSettings(centre_x = centre_x, width=width, height=height, depth=bitmap_depth)\n",
    "    pattern2 = milling._draw_bitmap_pattern(microscope, mill_settings, bitmap_pattern)\n",
    "    pattern2.scan_direction = \"LeftToRight\"\n"
   ]
  },
  {
   "cell_type": "code",
   "execution_count": null,
   "metadata": {},
   "outputs": [],
   "source": [
    "import time \n",
    "\n",
    "t0 = time.time()\n",
    "n_iteration = 300\n",
    "calibration.auto_discharge_beam(microscope, settings.image, n_iterations=n_iteration)\n",
    "t1 = time.time()\n",
    "\n",
    "elapsed = t1 - t0"
   ]
  },
  {
   "cell_type": "code",
   "execution_count": null,
   "metadata": {},
   "outputs": [],
   "source": [
    "ib_image1 = acquire.new_image(microscope, settings.image)\n",
    "movement.move_stage_relative_with_corrected_movement(\n",
    "    microscope,\n",
    "    settings,\n",
    "    dx=100e-6,\n",
    "    dy=0,\n",
    "    beam_type=BeamType.ION\n",
    ")\n",
    "\n",
    "ib_image2 = acquire.new_image(microscope, settings.image)\n",
    "\n",
    "movement.move_stage_relative_with_corrected_movement(\n",
    "    microscope,\n",
    "    settings,\n",
    "    dx=-100e-6,\n",
    "    dy=0,\n",
    "    beam_type=BeamType.ION\n",
    ")\n",
    "\n",
    "ib_image3 = acquire.new_image(microscope, settings.image)\n",
    "\n",
    "\n",
    "fig, ax = plt.subplots(1, 3, figsize=(15, 15))\n",
    "ax[0].imshow(ib_image1.data, cmap=\"gray\")\n",
    "ax[1].imshow(ib_image2.data, cmap=\"gray\")\n",
    "ax[2].imshow(ib_image3.data, cmap=\"gray\")\n",
    "plt.show()\n",
    "\n"
   ]
  },
  {
   "cell_type": "code",
   "execution_count": null,
   "metadata": {},
   "outputs": [],
   "source": [
    "print(\"elapsed: \", elapsed)"
   ]
  },
  {
   "cell_type": "code",
   "execution_count": null,
   "metadata": {},
   "outputs": [],
   "source": [
    "\n",
    "import winsound\n",
    "\n",
    "wait_time = 1\n",
    "time.sleep(wait_time)\n",
    "winsound.Beep(500, 1000)\n"
   ]
  },
  {
   "cell_type": "code",
   "execution_count": null,
   "metadata": {},
   "outputs": [],
   "source": [
    "\n",
    "beam_current = microscope.beams.ion_beam.beam_current.value\n",
    "settings.image.resolution = \"1536x1024\"\n",
    "settings.image.save_path = r\"C:\\Users\\Admin\\Github\\vulcan\\vulcan\\vulcan_demo_2022-10-10.03-14-48PM\"\n",
    "settings.image.beam_type = BeamType.ELECTRON\n",
    "settings.image.hfw = 60e-6\n",
    "settings.image.save = True\n",
    "# settings.image.label = f\"stitch_{beam_current:.2e}_offset_{offset*1e6}_dis_{elapsed:.2f}_wait_{wait_time}_p1\"\n",
    "settings.image.label = \"stitch_baseline-dynamic-all-directions2\"\n",
    "image = acquire.new_image(microscope, settings.image)"
   ]
  },
  {
   "cell_type": "code",
   "execution_count": null,
   "metadata": {},
   "outputs": [],
   "source": [
    "milling.setup_milling(\n",
    "    microscope, \n",
    "    application_file=settings.system.application_file,\n",
    "    hfw=80e-6\n",
    ")\n",
    "\n",
    "mill_settings = MillingSettings(centre_x = +width/2 + offset, width=width, height=20e-6, depth=0.6e-6)\n",
    "rect_pattern = milling._draw_rectangle_pattern_v2(microscope, mill_settings)\n",
    "\n",
    "milling.run_milling(microscope, milling_current=60e-9)\n"
   ]
  },
  {
   "cell_type": "code",
   "execution_count": null,
   "metadata": {},
   "outputs": [],
   "source": [
    "calibration.auto_discharge_beam(microscope, settings.image, n_iterations=n_iteration)"
   ]
  },
  {
   "cell_type": "code",
   "execution_count": null,
   "metadata": {},
   "outputs": [],
   "source": [
    "milling.setup_milling(\n",
    "    microscope, \n",
    "    application_file=settings.system.application_file,\n",
    "    hfw=80e-6\n",
    ")\n",
    "\n",
    "bitmap_pattern  =  BitmapPatternDefinition.load(path)\n",
    "mill_settings = MillingSettings(centre_x = +width/2 + offset, width=width, height=20e-6, depth=2e-6)\n",
    "pattern2 = milling._draw_bitmap_pattern(microscope, mill_settings, bitmap_pattern)\n",
    "pattern2.scan_direction = \"LeftToRight\"\n",
    "\n",
    "microscope.patterning.mode = \"Serial\"\n",
    "\n",
    "milling.run_milling(microscope, milling_current=60e-9)\n"
   ]
  },
  {
   "cell_type": "code",
   "execution_count": null,
   "metadata": {},
   "outputs": [],
   "source": [
    "calibration.auto_discharge_beam(microscope, settings.image, n_iterations=n_iteration)"
   ]
  },
  {
   "cell_type": "code",
   "execution_count": null,
   "metadata": {},
   "outputs": [],
   "source": [
    "from fibsem import acquire\n",
    "from fibsem.structures import BeamType\n",
    "\n",
    "beam_current = microscope.beams.ion_beam.beam_current.value\n",
    "settings.image.resolution = \"1536x1024\"\n",
    "settings.image.save_path = r\"C:\\Users\\Admin\\Github\\vulcan\\vulcan\\vulcan_demo_2022-10-10.03-14-48PM\"\n",
    "settings.image.beam_type = BeamType.ELECTRON\n",
    "settings.image.hfw = 60e-6\n",
    "settings.image.save = True\n",
    "settings.image.label = f\"stitch_{beam_current:.2e}_offset_{offset*1e6}_dis_{elapsed:.2f}_wait_{wait_time}_p2_topdown\"\n",
    "image = acquire.new_image(microscope, settings.image)"
   ]
  },
  {
   "cell_type": "markdown",
   "metadata": {},
   "source": [
    "### Calibration\n",
    "\n",
    "Resolution vs Depth\n",
    "\n",
    "How does changing the resolution of the bitmap pattern affect the depth?"
   ]
  },
  {
   "cell_type": "code",
   "execution_count": null,
   "metadata": {},
   "outputs": [],
   "source": [
    "milling.setup_milling(\n",
    "    microscope, \n",
    "    application_file=settings.system.application_file,\n",
    "    hfw=400e-6\n",
    ")"
   ]
  },
  {
   "cell_type": "code",
   "execution_count": null,
   "metadata": {},
   "outputs": [],
   "source": [
    "# paths = range(4)\n",
    "# paths = [r\"C:\\Users\\Admin\\Github\\vulcan\\vulcan\\profiles\\calibration\\1e-06_profile.bmp\"]\n",
    "# r\"C:\\Users\\Admin\\Github\\vulcan\\vulcan\\profiles\\calibration\\1e-06_rect.bmp\"]\n",
    "\n",
    "\n",
    "\n",
    "microscope.patterning.clear_patterns()\n",
    "\n",
    "width = 800e-6\n",
    "height = 400e-6\n",
    "depth = 5e-6\n",
    "offset = 0e-6\n",
    "center_x = 0\n",
    "center_y = -(len(paths) - 1) / 2 * (height + offset) \n",
    "\n",
    "mill_settings = MillingSettings(centre_x=center_x, centre_y=0, \n",
    "    width=width, \n",
    "    height=height, \n",
    "    depth=600e-9)\n",
    "\n",
    "pattern = milling._draw_rectangle_pattern_v2(microscope, mill_settings)\n",
    "\n",
    "\n",
    "for path in paths:\n",
    "\n",
    "    # profile pattern\n",
    "    bitmap_pattern  =  BitmapPatternDefinition.load(path)\n",
    "    mill_settings = MillingSettings(centre_x=center_x, centre_y=center_y, width=width, height=height, depth=depth)\n",
    "    pattern = milling._draw_bitmap_pattern(microscope, mill_settings, bitmap_pattern)\n",
    "\n",
    "    print(mill_settings)\n",
    "\n",
    "    center_y +=  height + offset"
   ]
  },
  {
   "cell_type": "code",
   "execution_count": null,
   "metadata": {},
   "outputs": [],
   "source": []
  },
  {
   "cell_type": "code",
   "execution_count": null,
   "metadata": {},
   "outputs": [],
   "source": [
    "import numpy as np\n",
    "import matplotlib.pyplot as plt\n",
    "\n",
    "# np_path = r\"C:\\Users\\Admin\\Github\\vulcan\\vulcan\\profiles\\calibration/1e-06_profile.npy\"\n",
    "np_path = r\"C:\\Users\\Admin\\Github\\vulcan\\vulcan\\profiles\\lens_lowres_half.npy\"\n",
    "arr = np.load(np_path)\n",
    "\n",
    "print(arr.shape)\n",
    "plt.plot(arr[0])\n",
    "plt.show()\n",
    "\n",
    "# dirname = os.path.dirname(np_path)\n",
    "# fname = os.path.basename(np_path).split(\".\")[0]\n",
    "# fname = np_path.replace(\"npy\", \"bmp\")\n",
    "# print(fname)\n",
    "\n",
    "arr = utils.transform_profile(arr, invert=True, rotate=False)\n",
    "utils.save_profile_to_bmp(arr, fname)"
   ]
  },
  {
   "cell_type": "code",
   "execution_count": null,
   "metadata": {},
   "outputs": [],
   "source": [
    "print(\"30x: \", arr.shape[1] * 30)\n",
    "print(\"100x (10nm): \", arr.shape[1] * 100)\n",
    "print(\"1000x (1nm): \", arr.shape[1] * 1000)"
   ]
  },
  {
   "cell_type": "code",
   "execution_count": null,
   "metadata": {},
   "outputs": [],
   "source": [
    "from PIL import Image\n",
    "import matplotlib.pyplot as plt\n",
    "from pathlib import Path\n",
    "import tifffile as tf\n",
    "import numpy as np\n",
    "\n",
    "path = r\"C:\\Users\\Admin\\Github\\vulcan\\vulcan\\profiles\\helloworld.tif\"\n",
    "\n",
    "utils.convert_tif_to_bmp(path, \"pattern.bmp\")\n",
    "\n",
    "plt.imshow(arr)\n",
    "plt.show()"
   ]
  },
  {
   "cell_type": "code",
   "execution_count": null,
   "metadata": {},
   "outputs": [],
   "source": [
    "x = \"Hello world\"\n",
    "print(str(x))\n"
   ]
  },
  {
   "cell_type": "code",
   "execution_count": null,
   "metadata": {},
   "outputs": [],
   "source": [
    "\n",
    "arr = np.ones(shape=(200, 40))\n",
    "path = r\"C:\\Users\\Admin\\Github\\vulcan\\vulcan\\profiles\\calibration\"\n",
    "fname = os.path.join(path, f\"{arr.shape[0]}.{arr.shape[1]}.bmp\")\n",
    "utils.save_profile_to_bmp(arr, fname)\n",
    "\n",
    "print(\"elements: \", arr.size)\n",
    "# microscope.patterning.clear_patterns()\n",
    "\n",
    "width = 40e-6\n",
    "height = 20e-6\n",
    "depth_step = 3e-6\n",
    "offset = 30e-6\n",
    "center_x = 0\n",
    "center_y = -(2 - 1) / 2 * (height + offset) \n",
    "\n",
    "# center_y = 0\n",
    "# mill_settings = MillingSettings(centre_x=center_x, centre_y=0, \n",
    "#     width=width, \n",
    "#     height=height, \n",
    "#     depth=600e-9)\n",
    "\n",
    "# pattern = milling._draw_rectangle_pattern_v2(microscope, mill_settings)\n",
    "\n",
    "depth = 2e-6\n",
    "\n",
    "for i in range(2):\n",
    "\n",
    "    # profile pattern\n",
    "    bitmap_pattern  =  BitmapPatternDefinition.load(fname)\n",
    "    mill_settings = MillingSettings(centre_x=center_x, centre_y=center_y, width=width, height=height, depth=depth)\n",
    "    pattern = milling._draw_bitmap_pattern(microscope, mill_settings, bitmap_pattern)\n",
    "    \n",
    "    center_y +=  height + offset\n",
    "    depth += depth_step\n",
    "\n",
    "    print(\"depth: \", pattern.depth)\n",
    "    print(\"passes: \", pattern.pass_count)\n",
    "    print(\"vol per dose: \", pattern.volume_per_dose)\n",
    "    print(\"dose: \", pattern.dose)\n"
   ]
  },
  {
   "cell_type": "code",
   "execution_count": null,
   "metadata": {},
   "outputs": [],
   "source": [
    "pattern.dose *= 2.5"
   ]
  },
  {
   "cell_type": "code",
   "execution_count": null,
   "metadata": {},
   "outputs": [],
   "source": [
    "pattern.depth\n"
   ]
  },
  {
   "cell_type": "code",
   "execution_count": null,
   "metadata": {},
   "outputs": [],
   "source": [
    "rect_pattern.dose"
   ]
  },
  {
   "cell_type": "code",
   "execution_count": null,
   "metadata": {},
   "outputs": [],
   "source": [
    "pattern.depth"
   ]
  },
  {
   "cell_type": "code",
   "execution_count": null,
   "metadata": {},
   "outputs": [],
   "source": [
    "pattern.dwell_time"
   ]
  },
  {
   "cell_type": "code",
   "execution_count": null,
   "metadata": {},
   "outputs": [],
   "source": []
  },
  {
   "cell_type": "code",
   "execution_count": null,
   "metadata": {},
   "outputs": [],
   "source": []
  },
  {
   "cell_type": "code",
   "execution_count": null,
   "metadata": {},
   "outputs": [],
   "source": [
    "import numpy as np\n",
    "\n",
    "arr = np.ones(shape=(200, 200))\n",
    "\n",
    "fname = r\"C:\\Users\\Admin\\Github\\vulcan\\vulcan\\profiles\\calibration/1um.bmp\"\n",
    "arr = utils.transform_profile(arr, invert=False, rotate=False)\n",
    "utils.save_profile_to_bmp(arr, fname)"
   ]
  },
  {
   "cell_type": "code",
   "execution_count": null,
   "metadata": {},
   "outputs": [],
   "source": []
  },
  {
   "cell_type": "code",
   "execution_count": null,
   "metadata": {},
   "outputs": [],
   "source": [
    "np_path = r\"C:\\Users\\Admin\\Github\\vulcan\\vulcan\\profiles\\lens_lowres_half.npy\"\n",
    "arr = np.load(np_path)\n",
    "\n",
    "print(arr.shape)\n",
    "plt.imshow(arr)\n",
    "plt.colorbar()\n",
    "plt.show()"
   ]
  },
  {
   "cell_type": "code",
   "execution_count": null,
   "metadata": {},
   "outputs": [],
   "source": [
    "img_path = r\"C:\\Users\\Admin\\Github\\vulcan\\vulcan\\profiles\\lens_lowres_half.bmp\"\n",
    "\n",
    "from PIL import Image\n",
    "\n",
    "img = Image.open(img_path)\n",
    "\n",
    "print(img.size)\n",
    "plt.imshow(img, cmap=\"gray\")\n",
    "plt.colorbar()\n",
    "plt.show()"
   ]
  },
  {
   "cell_type": "code",
   "execution_count": null,
   "metadata": {},
   "outputs": [],
   "source": []
  }
 ],
 "metadata": {
  "kernelspec": {
   "display_name": "Python 3.9.12 ('liftout')",
   "language": "python",
   "name": "python3"
  },
  "language_info": {
   "codemirror_mode": {
    "name": "ipython",
    "version": 3
   },
   "file_extension": ".py",
   "mimetype": "text/x-python",
   "name": "python",
   "nbconvert_exporter": "python",
   "pygments_lexer": "ipython3",
   "version": "3.9.12"
  },
  "orig_nbformat": 4,
  "vscode": {
   "interpreter": {
    "hash": "5cb17a689ea48522a268bdcd61b0f399058cec9c1acbad013779623d1fd2c02a"
   }
  }
 },
 "nbformat": 4,
 "nbformat_minor": 2
}
